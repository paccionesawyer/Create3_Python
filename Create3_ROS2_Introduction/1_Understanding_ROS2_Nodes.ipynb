{
 "cells": [
  {
   "cell_type": "markdown",
   "metadata": {},
   "source": [
    "# Create3 ROS2 Introduction - Page 1\n",
    "\n",
    "## What IS ROS2?\n",
    "\n",
    "The Robot Operating System (ROS) is a set of software libraries and tools for building robot applications. From drivers to state-of-the-art algorithms, and with powerful developer tools, ROS has what you need for your next robotics project. And it’s all open source. [More Info](https://docs.ros.org/en/galactic/index.html)\n",
    "\n",
    "## The ROS 2 graph\n",
    "\n",
    "Over the next few tutorials, you will learn about a series of core ROS 2 concepts that make up what is referred to as the “ROS (2) graph”.\n",
    "\n",
    "The ROS graph is a network of ROS 2 elements processing data together at one time. It encompasses all executables and the connections between them if you were to map them all out and visualize them.\n",
    "\n",
    "## Nodes in ROS 2\n",
    "\n",
    "Each node in ROS should be responsible for a single, module purpose (e.g. one node for controlling wheel motors, one node for controlling a laser range-finder, etc). Each node can send and receive data to other nodes via topics, services, actions, or parameters.\n",
    "\n",
    "A full robotic system is comprised of many nodes working in concert. In ROS 2, a single executable (C++ program, Python program, etc.) can contain one or more nodes. \n",
    "\n",
    "[More Info On ROS2 Nodes](https://docs.ros.org/en/galactic/Tutorials/Understanding-ROS2-Nodes.html)"
   ]
  },
  {
   "cell_type": "markdown",
   "metadata": {},
   "source": [
    "## Seeing What Node are Available To You\n",
    "\n",
    "Run the following cell by pressing on the play button. \n",
    "\n",
    "The output should be something like...\n",
    "\n",
    "        /_internal/battery\n",
    "        /_internal/composite_hazard\n",
    "        /_internal/floor_type\n",
    "        /_internal/hazard_sensors\n",
    "        /_internal/imu\n",
    "        /_internal/ir_codes\n",
    "        /_internal/ir_intensity\n",
    "        /_internal/kinematics_engine\n",
    "        /_internal/mobility\n",
    "        /_internal/mouse\n",
    "        /motion_control\n",
    "        /robot_state\n",
    "        /root_ble_interface\n",
    "        /static_transform\n",
    "        /system_monitor\n",
    "        /ui_mgr"
   ]
  },
  {
   "cell_type": "code",
   "execution_count": 3,
   "metadata": {},
   "outputs": [
    {
     "name": "stdout",
     "output_type": "stream",
     "text": [
      "/_internal/battery\n",
      "/_internal/composite_hazard\n",
      "/_internal/floor_type\n",
      "/_internal/hazard_sensors\n",
      "/_internal/imu\n",
      "/_internal/ir_codes\n",
      "/_internal/ir_intensity\n",
      "/_internal/kinematics_engine\n",
      "/_internal/mobility\n",
      "/_internal/mouse\n",
      "/motion_control\n",
      "/robot_state\n",
      "/root_ble_interface\n",
      "/static_transform\n",
      "/system_monitor\n",
      "/ui_mgr\n"
     ]
    }
   ],
   "source": [
    "%%bash\n",
    "# The Cell Here is simulating your command line \n",
    "# (i.e. Running this cell is equivalent to running `ros2 node list` on the \n",
    "# command line)\n",
    "ros2 node list "
   ]
  },
  {
   "cell_type": "markdown",
   "metadata": {},
   "source": [
    "## Seeing What Topics are Available To You\n",
    "\n",
    "Running the `ros2 topic list` command in a terminal will return a list of all the topics currently active in the system:\n",
    "\n",
    "Run the following cell by pressing on the play button. The output should be something like...\n",
    "\n",
    "        /battery_state\n",
    "        /cmd_lightring\n",
    "        /cmd_vel\n",
    "        /dock\n",
    "        /hazard_detection\n",
    "        /imu\n",
    "        /interface_buttons\n",
    "        /ir_intensity\n",
    "        /ir_opcode\n",
    "        /kidnap_status\n",
    "        /mouse\n",
    "        /odom\n",
    "        /parameter_events\n",
    "        /rosout\n",
    "        /slip_status\n",
    "        /stop_status\n",
    "        /tf\n",
    "        /tf_static\n",
    "        /wheel_status\n",
    "        /wheel_ticks\n",
    "        /wheel_vels"
   ]
  },
  {
   "cell_type": "code",
   "execution_count": 6,
   "metadata": {},
   "outputs": [
    {
     "name": "stdout",
     "output_type": "stream",
     "text": [
      "/battery_state\n",
      "/cmd_lightring\n",
      "/cmd_vel\n",
      "/dock\n",
      "/hazard_detection\n",
      "/imu\n",
      "/interface_buttons\n",
      "/ir_intensity\n",
      "/ir_opcode\n",
      "/kidnap_status\n",
      "/mouse\n",
      "/odom\n",
      "/parameter_events\n",
      "/rosout\n",
      "/slip_status\n",
      "/stop_status\n",
      "/tf\n",
      "/tf_static\n",
      "/wheel_status\n",
      "/wheel_ticks\n",
      "/wheel_vels\n"
     ]
    }
   ],
   "source": [
    "%%bash\n",
    "# The Cell Here is simulating your command line \n",
    "# (i.e. Running this cell is equivalent to running `ros2 topic list` on the \n",
    "# command line)\n",
    "ros2 topic list"
   ]
  },
  {
   "cell_type": "markdown",
   "metadata": {},
   "source": [
    "Running this same command, now with the `-t` flag, will return the same list of topics, this time with the topic type appended in brackets.\n",
    "\n",
    "        /battery_state [sensor_msgs/msg/BatteryState]\n",
    "        /cmd_lightring [irobot_create_msgs/msg/LightringLeds]\n",
    "        /cmd_vel [geometry_msgs/msg/Twist]\n",
    "        /dock [irobot_create_msgs/msg/Dock]\n",
    "        /hazard_detection [irobot_create_msgs/msg/HazardDetectionVector]\n",
    "        /imu [sensor_msgs/msg/Imu]\n",
    "        /interface_buttons [irobot_create_msgs/msg/InterfaceButtons]\n",
    "        /ir_intensity [irobot_create_msgs/msg/IrIntensityVector]\n",
    "        /ir_opcode [irobot_create_msgs/msg/IrOpcode]\n",
    "        /kidnap_status [irobot_create_msgs/msg/KidnapStatus]\n",
    "        /mouse [irobot_create_msgs/msg/Mouse]\n",
    "        /odom [nav_msgs/msg/Odometry]\n",
    "        /parameter_events [rcl_interfaces/msg/ParameterEvent]\n",
    "        /rosout [rcl_interfaces/msg/Log]\n",
    "        /slip_status [irobot_create_msgs/msg/SlipStatus]\n",
    "        /stop_status [irobot_create_msgs/msg/StopStatus]\n",
    "        /tf [tf2_msgs/msg/TFMessage]\n",
    "        /tf_static [tf2_msgs/msg/TFMessage]\n",
    "        /wheel_status [irobot_create_msgs/msg/WheelStatus]\n",
    "        /wheel_ticks [irobot_create_msgs/msg/WheelTicks]\n",
    "        /wheel_vels [irobot_create_msgs/msg/WheelVels]"
   ]
  },
  {
   "cell_type": "code",
   "execution_count": 5,
   "metadata": {},
   "outputs": [
    {
     "name": "stdout",
     "output_type": "stream",
     "text": [
      "/battery_state [sensor_msgs/msg/BatteryState]\n",
      "/cmd_lightring [irobot_create_msgs/msg/LightringLeds]\n",
      "/cmd_vel [geometry_msgs/msg/Twist]\n",
      "/dock [irobot_create_msgs/msg/Dock]\n",
      "/hazard_detection [irobot_create_msgs/msg/HazardDetectionVector]\n",
      "/imu [sensor_msgs/msg/Imu]\n",
      "/interface_buttons [irobot_create_msgs/msg/InterfaceButtons]\n",
      "/ir_intensity [irobot_create_msgs/msg/IrIntensityVector]\n",
      "/ir_opcode [irobot_create_msgs/msg/IrOpcode]\n",
      "/kidnap_status [irobot_create_msgs/msg/KidnapStatus]\n",
      "/mouse [irobot_create_msgs/msg/Mouse]\n",
      "/odom [nav_msgs/msg/Odometry]\n",
      "/parameter_events [rcl_interfaces/msg/ParameterEvent]\n",
      "/rosout [rcl_interfaces/msg/Log]\n",
      "/slip_status [irobot_create_msgs/msg/SlipStatus]\n",
      "/stop_status [irobot_create_msgs/msg/StopStatus]\n",
      "/tf [tf2_msgs/msg/TFMessage]\n",
      "/tf_static [tf2_msgs/msg/TFMessage]\n",
      "/wheel_status [irobot_create_msgs/msg/WheelStatus]\n",
      "/wheel_ticks [irobot_create_msgs/msg/WheelTicks]\n",
      "/wheel_vels [irobot_create_msgs/msg/WheelVels]\n"
     ]
    }
   ],
   "source": [
    "%%bash\n",
    "# The Cell Here is simulating your command line \n",
    "# (i.e. Running this cell is equivalent to running `ros2 topic list` on the \n",
    "# command line)\n",
    "ros2 topic list -t"
   ]
  }
 ],
 "metadata": {
  "interpreter": {
   "hash": "916dbcbb3f70747c44a77c7bcd40155683ae19c65e1c03b4aa3499c5328201f1"
  },
  "kernelspec": {
   "display_name": "Python 3 (ipykernel)",
   "language": "python",
   "name": "python3"
  },
  "language_info": {
   "codemirror_mode": {
    "name": "ipython",
    "version": 3
   },
   "file_extension": ".py",
   "mimetype": "text/x-python",
   "name": "python",
   "nbconvert_exporter": "python",
   "pygments_lexer": "ipython3",
   "version": "3.8.3"
  }
 },
 "nbformat": 4,
 "nbformat_minor": 2
}
