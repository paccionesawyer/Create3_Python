{
 "cells": [
  {
   "cell_type": "markdown",
   "metadata": {},
   "source": [
    "# Troubleshooting\n",
    "\n",
    "If you run into errors at any point in the tutorial check this page to see if the solution is here"
   ]
  },
  {
   "cell_type": "markdown",
   "metadata": {},
   "source": [
    "## No Topics\n",
    "\n",
    "\"I don't see any topics when I run ros2 topic list\"\n",
    "\n",
    "There are several possible reasons for this\n",
    "\n",
    "### Incorrect RMW Implementation\n",
    "\n",
    "<!-- TODO -->\n",
    "\n",
    "### ROS2 Daemon Exists\n",
    "\n",
    "<!-- TODO -->"
   ]
  },
  {
   "cell_type": "markdown",
   "metadata": {},
   "source": []
  }
 ],
 "metadata": {
  "language_info": {
   "name": "python"
  },
  "orig_nbformat": 4
 },
 "nbformat": 4,
 "nbformat_minor": 2
}
