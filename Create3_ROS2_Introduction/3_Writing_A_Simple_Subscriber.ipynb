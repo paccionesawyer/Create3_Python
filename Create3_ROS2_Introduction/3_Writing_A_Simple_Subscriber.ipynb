{
 "cells": [
  {
   "cell_type": "markdown",
   "metadata": {},
   "source": [
    "# Page 3 - Writing a Simple Subscriber Client\n",
    "\n",
    "Goal: Create and run a subscriber node using Python.\n",
    "\n",
    "## Background\n",
    "\n",
    "In this tutorial, you will create a node that listens for information over a topic. The example used here is a simple “listener” system; one node subscribes to a topic so it can receive that data being published to that topic from the Create3.\n",
    "\n",
    "The code used in these examples can be found below."
   ]
  },
  {
   "cell_type": "code",
   "execution_count": null,
   "metadata": {},
   "outputs": [],
   "source": []
  }
 ],
 "metadata": {
  "interpreter": {
   "hash": "916dbcbb3f70747c44a77c7bcd40155683ae19c65e1c03b4aa3499c5328201f1"
  },
  "kernelspec": {
   "display_name": "Python 3.8.10 64-bit",
   "language": "python",
   "name": "python3"
  },
  "language_info": {
   "codemirror_mode": {
    "name": "ipython",
    "version": 3
   },
   "file_extension": ".py",
   "mimetype": "text/x-python",
   "name": "python",
   "nbconvert_exporter": "python",
   "pygments_lexer": "ipython3",
   "version": "3.8.10"
  },
  "orig_nbformat": 4
 },
 "nbformat": 4,
 "nbformat_minor": 2
}
