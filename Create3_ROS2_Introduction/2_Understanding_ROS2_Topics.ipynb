{
 "cells": [
  {
   "cell_type": "markdown",
   "metadata": {},
   "source": [
    "# Create3 ROS2 Introduction - Page 2\n",
    "\n",
    "## Controlling Your Robot From the Command Line\n",
    "\n",
    "Now that you know what nodes and topics are available to you, you can start communicating with them. Some topics you can subscribe to, which means you are getting data FROM the topics. Some topics you can publish to, which means you are providing data TO the topics. Some topics you can both subscribe AND publish to. \n",
    "\n",
    "We already know that running `ros2 topic list` get's us what topics are available, but how do we know what to publish to and what to subscribe to? In most cases, the developers of the robot will provide that information to you, which is the case here. Follow this [link](https://iroboteducation.github.io/create3_docs/api/ros2/) for information about the ros2 topics on the Create3. Note that the Create® 3 robot will produce data on most of these topics. On the other hand, some of them can be used by the user to send commands to the Create® 3 robot. "
   ]
  },
  {
   "cell_type": "markdown",
   "metadata": {},
   "source": [
    "## Echo - Getting Data From A Topic\n",
    "\n",
    "Here we are going to get information from the /battery_state topic by using the ros2 keyword `echo`. To get data from a topic we use `ros2 topic echo <topic_name>`. Execute the following cell by pressing the play button to get data from the topic /battery_state.\n",
    "\n",
    "The result should look something like...\n",
    "\n",
    "        header:\n",
    "        stamp:\n",
    "            sec: 1646778107\n",
    "            nanosec: 387094413\n",
    "        frame_id: ''\n",
    "        voltage: 14.782999992370605\n",
    "        temperature: 34.849998474121094\n",
    "        current: -0.22599999606609344\n",
    "        charge: 1.1030000448226929\n",
    "        capacity: 1.8869999647140503\n",
    "        design_capacity: 1.8869999647140503\n",
    "        percentage: 0.5799999833106995\n",
    "        power_supply_status: 0\n",
    "        power_supply_health: 0\n",
    "        power_supply_technology: 0\n",
    "        present: true\n",
    "        cell_voltage: []\n",
    "        cell_temperature: []\n",
    "        location: ''\n",
    "        serial_number: ''"
   ]
  },
  {
   "cell_type": "code",
   "execution_count": 7,
   "metadata": {},
   "outputs": [
    {
     "name": "stdout",
     "output_type": "stream",
     "text": [
      "header:\n",
      "  stamp:\n",
      "    sec: 1646781937\n",
      "    nanosec: 522075201\n",
      "  frame_id: ''\n",
      "dock_visible: true\n",
      "is_docked: false\n",
      "---\n",
      "header:\n",
      "  stamp:\n",
      "    sec: 1646781938\n",
      "    nanosec: 522614209\n",
      "  frame_id: ''\n",
      "dock_visible: true\n",
      "is_docked: false\n",
      "---\n",
      "header:\n",
      "  stamp:\n",
      "    sec: 1646781939\n",
      "    nanosec: 522026843\n",
      "  frame_id: ''\n",
      "dock_visible: true\n",
      "is_docked: false\n",
      "---\n",
      "header:\n",
      "  stamp:\n",
      "    sec: 1646781940\n",
      "    nanosec: 521817808\n",
      "  frame_id: ''\n",
      "dock_visible: true\n",
      "is_docked: false\n",
      "---\n",
      "header:\n",
      "  stamp:\n",
      "    sec: 1646781941\n",
      "    nanosec: 521935624\n",
      "  frame_id: ''\n",
      "dock_visible: true\n",
      "is_docked: false\n",
      "---\n",
      "header:\n",
      "  stamp:\n",
      "    sec: 1646781906\n",
      "    nanosec: 470484802\n",
      "  frame_id: ''\n",
      "voltage: 14.539999961853027\n",
      "temperature: 34.650001525878906\n",
      "current: -0.23000000417232513\n",
      "charge: 0.8579999804496765\n",
      "capacity: 1.8869999647140503\n",
      "design_capacity: 1.8869999647140503\n",
      "percentage: 0.44999998807907104\n",
      "power_supply_status: 0\n",
      "power_supply_health: 0\n",
      "power_supply_technology: 0\n",
      "present: true\n",
      "cell_voltage: []\n",
      "cell_temperature: []\n",
      "location: ''\n",
      "serial_number: ''\n",
      "---\n",
      "header:\n",
      "  stamp:\n",
      "    sec: 1646781942\n",
      "    nanosec: 522536021\n",
      "  frame_id: ''\n",
      "dock_visible: true\n",
      "is_docked: false\n",
      "---\n",
      "Error while terminating subprocess (pid=5024): \n",
      "header:\n",
      "  stamp:\n",
      "    sec: 1646781943\n",
      "    nanosec: 521917911\n",
      "  frame_id: ''\n",
      "dock_visible: true\n",
      "is_docked: false\n",
      "---\n",
      "header:\n",
      "  stamp:\n",
      "    sec: 1646781944\n",
      "    nanosec: 522761483\n",
      "  frame_id: ''\n",
      "dock_visible: true\n",
      "is_docked: false\n",
      "---\n",
      "header:\n",
      "  stamp:\n",
      "    sec: 1646781945\n",
      "    nanosec: 521911096\n",
      "  frame_id: ''\n",
      "dock_visible: true\n",
      "is_docked: false\n",
      "---\n",
      "header:\n",
      "  stamp:\n",
      "    sec: 1646781946\n",
      "    nanosec: 522947326\n",
      "  frame_id: ''\n",
      "dock_visible: true\n",
      "is_docked: false\n",
      "---\n",
      "header:\n",
      "  stamp:\n",
      "    sec: 1646781947\n",
      "    nanosec: 522179950\n",
      "  frame_id: ''\n",
      "dock_visible: true\n",
      "is_docked: false\n",
      "---\n",
      "header:\n",
      "  stamp:\n",
      "    sec: 1646781948\n",
      "    nanosec: 523087346\n",
      "  frame_id: ''\n",
      "dock_visible: true\n",
      "is_docked: false\n",
      "---\n"
     ]
    }
   ],
   "source": [
    "%%bash\n",
    "\n",
    "ros2 topic echo /battery_state"
   ]
  },
  {
   "cell_type": "markdown",
   "metadata": {},
   "source": [
    "Try creating your own command to echo the current state of the topic `/dock` in the python cell below."
   ]
  },
  {
   "cell_type": "code",
   "execution_count": 6,
   "metadata": {},
   "outputs": [
    {
     "name": "stdout",
     "output_type": "stream",
     "text": [
      "header:\n",
      "  stamp:\n",
      "    sec: 1646781928\n",
      "    nanosec: 521821483\n",
      "  frame_id: ''\n",
      "dock_visible: true\n",
      "is_docked: false\n",
      "---\n",
      "header:\n",
      "  stamp:\n",
      "    sec: 1646781929\n",
      "    nanosec: 521906084\n",
      "  frame_id: ''\n",
      "dock_visible: true\n",
      "is_docked: false\n",
      "---\n",
      "Error while terminating subprocess (pid=5011): \n",
      "header:\n",
      "  stamp:\n",
      "    sec: 1646781930\n",
      "    nanosec: 522622938\n",
      "  frame_id: ''\n",
      "dock_visible: true\n",
      "is_docked: false\n",
      "---\n",
      "header:\n",
      "  stamp:\n",
      "    sec: 1646781931\n",
      "    nanosec: 521940594\n",
      "  frame_id: ''\n",
      "dock_visible: true\n",
      "is_docked: false\n",
      "---\n",
      "header:\n",
      "  stamp:\n",
      "    sec: 1646781932\n",
      "    nanosec: 521944680\n",
      "  frame_id: ''\n",
      "dock_visible: true\n",
      "is_docked: false\n",
      "---\n",
      "header:\n",
      "  stamp:\n",
      "    sec: 1646781933\n",
      "    nanosec: 521909337\n",
      "  frame_id: ''\n",
      "dock_visible: true\n",
      "is_docked: false\n",
      "---\n",
      "header:\n",
      "  stamp:\n",
      "    sec: 1646781934\n",
      "    nanosec: 522309869\n",
      "  frame_id: ''\n",
      "dock_visible: true\n",
      "is_docked: false\n",
      "---\n",
      "header:\n",
      "  stamp:\n",
      "    sec: 1646781935\n",
      "    nanosec: 521919956\n",
      "  frame_id: ''\n",
      "dock_visible: true\n",
      "is_docked: false\n",
      "---\n",
      "header:\n",
      "  stamp:\n",
      "    sec: 1646781936\n",
      "    nanosec: 522433047\n",
      "  frame_id: ''\n",
      "dock_visible: true\n",
      "is_docked: false\n",
      "---\n"
     ]
    }
   ],
   "source": [
    "%%bash\n",
    "\n",
    "ros2 topic echo /dock"
   ]
  },
  {
   "cell_type": "markdown",
   "metadata": {},
   "source": [
    "## Info - Data Flow Through a Topic\n",
    "\n",
    "Topics don’t have to only be point-to-point communication; it can be one-to-many, many-to-one, or many-to-many.\n",
    "\n",
    "Another way to look at this is running: `ros2 topic info /turtle1/cmd_vel`\n",
    "\n",
    "Which will return:\n",
    "\n",
    "    Type: geometry_msgs/msg/Twist\n",
    "    Publisher count: 1\n",
    "    Subscription count: 1\n"
   ]
  },
  {
   "cell_type": "code",
   "execution_count": 3,
   "metadata": {},
   "outputs": [
    {
     "name": "stdout",
     "output_type": "stream",
     "text": [
      "Type: geometry_msgs/msg/Twist\n",
      "Publisher count: 1\n",
      "Subscription count: 1\n"
     ]
    }
   ],
   "source": [
    "%%bash \n",
    "\n",
    "ros2 topic info /cmd_vel"
   ]
  },
  {
   "cell_type": "markdown",
   "metadata": {},
   "source": [
    "## Interface - Types of Messages\n",
    "\n",
    "Nodes send data over topics using messages. Publishers and subscribers must send and receive the same type of message to communicate.\n",
    "\n",
    "The topic types we saw earlier after running `ros2 topic list -t` let us know what message type is used on each topic. Recall that the `cmd_vel` topic has the type: `geometry_msgs/msg/Twist`.\n",
    "\n",
    "This means that in the package `geometry_msgs` there is a `msg` called `Twist`.\n",
    "\n",
    "Now we can run `ros2 interface show <msg type>` on this type to learn its details, specifically, what structure of data the message expects.\n",
    "\n",
    "Which will return:\n",
    "\n",
    "    #This expresses velocity in free space broken into its linear and angular parts.\n",
    "\n",
    "        Vector3  linear\n",
    "                float64 x\n",
    "                float64 y\n",
    "                float64 z\n",
    "        Vector3  angular\n",
    "                float64 x\n",
    "                float64 y\n",
    "                float64 z"
   ]
  },
  {
   "cell_type": "code",
   "execution_count": 4,
   "metadata": {},
   "outputs": [
    {
     "name": "stdout",
     "output_type": "stream",
     "text": [
      "# This expresses velocity in free space broken into its linear and angular parts.\n",
      "\n",
      "Vector3  linear\n",
      "\tfloat64 x\n",
      "\tfloat64 y\n",
      "\tfloat64 z\n",
      "Vector3  angular\n",
      "\tfloat64 x\n",
      "\tfloat64 y\n",
      "\tfloat64 z\n"
     ]
    }
   ],
   "source": [
    "%%bash \n",
    "\n",
    "ros2 interface show geometry_msgs/msg/Twist"
   ]
  },
  {
   "cell_type": "markdown",
   "metadata": {},
   "source": [
    "## Pub - Sending Data to a Topic"
   ]
  },
  {
   "cell_type": "markdown",
   "metadata": {},
   "source": [
    "Now that you have the message structure, you can publish data onto a topic directly from the command line using: `ros2 topic pub <topic_name> <msg_type> '<args>'`\n",
    "\n",
    "The `'<args>'` argument is the actual data you’ll pass to the topic, in the structure you just discovered in the previous section.\n",
    "\n",
    "It’s important to note that this argument needs to be input in YAML syntax. Input the full command like so:"
   ]
  },
  {
   "cell_type": "code",
   "execution_count": 5,
   "metadata": {},
   "outputs": [
    {
     "name": "stdout",
     "output_type": "stream",
     "text": [
      "publisher: beginning loop\n",
      "publishing #1: geometry_msgs.msg.Twist(linear=geometry_msgs.msg.Vector3(x=0.2, y=0.0, z=0.0), angular=geometry_msgs.msg.Vector3(x=0.0, y=0.0, z=0.0))\n",
      "\n"
     ]
    }
   ],
   "source": [
    "%%bash\n",
    "\n",
    "ros2 topic pub --once /cmd_vel geometry_msgs/msg/Twist \"{linear: {x: 0.2, y: 0.0, z: 0.0}, angular: {x: 0.0, y: 0.0, z: 0.0}}\" "
   ]
  }
 ],
 "metadata": {
  "interpreter": {
   "hash": "916dbcbb3f70747c44a77c7bcd40155683ae19c65e1c03b4aa3499c5328201f1"
  },
  "kernelspec": {
   "display_name": "Python 3.8.10 64-bit",
   "language": "python",
   "name": "python3"
  },
  "language_info": {
   "codemirror_mode": {
    "name": "ipython",
    "version": 3
   },
   "file_extension": ".py",
   "mimetype": "text/x-python",
   "name": "python",
   "nbconvert_exporter": "python",
   "pygments_lexer": "ipython3",
   "version": "3.8.10"
  },
  "orig_nbformat": 4
 },
 "nbformat": 4,
 "nbformat_minor": 2
}
