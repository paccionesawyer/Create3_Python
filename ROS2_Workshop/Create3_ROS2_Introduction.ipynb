{
 "cells": [
  {
   "cell_type": "markdown",
   "id": "83dd4523",
   "metadata": {},
   "source": [
    "# Create3 ROS2 Workshop\n",
    "\n",
    "\n",
    "## Table Of Contents \n",
    "\n",
    "1. [Getting Data From the Robot (Subscriptions)](./01_Getting_Data.ipynb)\n",
    "2. [Sending Data To the Robot (Publishing)](./02_Sending_Data.ipynb)\n",
    "3. [Sending Actions to the Robot (Actions)](./03_Sending_Actions.ipynb)\n",
    "4. [Combining Subscriptions and Publishing](./04_Combining_Sub_and_Pub.ipynb)\n",
    "5. [Combining Subscriptions and Actions](./05_Combine_Sub_Actions.ipynb)\n",
    "6. [Combining Subscriptions, Publishing, and Actins](./06_Combining_Sub_Pub_and_Actions.ipynb)\n",
    "7. [Writing Your Own Code](./07_Writing_New_Code.ipynb)\n",
    "\n",
    "## Purpose \n",
    "\n"
   ]
  },
  {
   "cell_type": "code",
   "execution_count": null,
   "id": "657408e7",
   "metadata": {},
   "outputs": [],
   "source": []
  }
 ],
 "metadata": {
  "kernelspec": {
   "display_name": "Python 3 (ipykernel)",
   "language": "python",
   "name": "python3"
  },
  "language_info": {
   "codemirror_mode": {
    "name": "ipython",
    "version": 3
   },
   "file_extension": ".py",
   "mimetype": "text/x-python",
   "name": "python",
   "nbconvert_exporter": "python",
   "pygments_lexer": "ipython3",
   "version": "3.8.3"
  }
 },
 "nbformat": 4,
 "nbformat_minor": 5
}
