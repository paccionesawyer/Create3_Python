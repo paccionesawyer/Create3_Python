{
 "cells": [
  {
   "cell_type": "markdown",
   "id": "ed123005",
   "metadata": {},
   "source": [
    "# Create3 ROS2 Workshop\n",
    "\n",
    "\n",
    "## Table Of Contents \n",
    "\n",
    "1. [Getting Data From the Robot (Subscriptions)](./01_Getting_Data.ipynb)\n",
    "2. [Sending Data To the Robot (Publishing)](./02_Sending_Data.ipynb)\n",
    "3. [Sending Actions to the Robot (Actions)](./03_Sending_Actions.ipynb)\n",
    "4. [Combining Subscriptions and Publishing](./04_Combining_Sub_and_Pub.ipynb)\n",
    "5. [Combining Subscriptions and Actions](./05_Combine_Sub_Actions.ipynb)\n",
    "6. [Combining Subscriptions, Publishing, and Actions](./06_Combining_Sub_Pub_and_Actions.ipynb)\n",
    "7. [Writing Your Own Code](./07_Writing_New_Code.ipynb)\n",
    "\n",
    "## Purpose \n",
    "\n",
    "This notebook is designed to serve as a brief introduction to ROS2. For more information on ROS2 please check out the last page of this notebook [Writing Your Own Code](./07_Writing_New_Code.ipynb). This page gives a broader description of ROS2, how to write your own code, and links to further tutorials.\n",
    "\n",
    "## [ROS 2](https://docs.ros.org/en/galactic/index.html)\n",
    "\n",
    "## More Examples\n",
    "\n",
    "This jupyter notebook is part of a larger [repository](https://github.com/paccionesawyer/Create3_Python). More examples are found in the subfolder, [`individual_examples`](../individual_examples)."
   ]
  }
 ],
 "metadata": {
  "kernelspec": {
   "display_name": "Python 3",
   "language": "python",
   "name": "python3"
  },
  "language_info": {
   "codemirror_mode": {
    "name": "ipython",
    "version": 3
   },
   "file_extension": ".py",
   "mimetype": "text/x-python",
   "name": "python",
   "nbconvert_exporter": "python",
   "pygments_lexer": "ipython3",
   "version": "3.9.1"
  }
 },
 "nbformat": 4,
 "nbformat_minor": 5
}
