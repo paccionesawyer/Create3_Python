{
 "cells": [
  {
   "cell_type": "markdown",
   "id": "95455292",
   "metadata": {},
   "source": [
    "# What IS ROS2?\n",
    "\n",
    "The Robot Operating System (ROS) is a set of software libraries and tools for building robot applications. From drivers to state-of-the-art algorithms, and with powerful developer tools, ROS has what you need for your next robotics project. And it’s all open source. [More Info](https://docs.ros.org/en/galactic/index.html)\n",
    "\n",
    "## The ROS 2 graph\n",
    "\n",
    "Over the next few tutorials, you will learn about a series of core ROS 2 concepts that make up what is referred to as the “ROS (2) graph”.\n",
    "\n",
    "The ROS graph is a network of ROS 2 elements processing data together at one time. It encompasses all executables and the connections between them if you were to map them all out and visualize them.\n",
    "\n",
    "## See What Topics Are Available"
   ]
  },
  {
   "cell_type": "markdown",
   "id": "0eb27289",
   "metadata": {},
   "source": [
    "Running the `ros2 topic list -t` command in a terminal command-line will return a list of all the topics currently active in the system. The `-t` flag provides additional information on the messages that are exchanged on each topic.\n",
    "\n",
    "Run the following cell by pressing on the play button."
   ]
  },
  {
   "cell_type": "code",
   "execution_count": 2,
   "id": "b79ef6d2",
   "metadata": {},
   "outputs": [
    {
     "name": "stdout",
     "output_type": "stream",
     "text": [
      "Couldn't find program: 'bash'\n"
     ]
    }
   ],
   "source": [
    "%%bash\n",
    "# The Cell Here is simulating your command line \n",
    "# (i.e. Running this cell is equivalent to running `ros2 topic list` on the command line)\n",
    "ros2 topic list -t"
   ]
  },
  {
   "cell_type": "markdown",
   "id": "f91f1311",
   "metadata": {},
   "source": [
    "## What To Do With This Information\n",
    "\n",
    "In this case let's look on how we built the code in [section 2](./02_Sending_Data.ipynb), Publishing to the Lightring. Running `ros2 topic list -t`, one of the lines we get back is `/cmd_lightring [irobot_create_msgs/msg/LightringLeds]`. What this line means is that the **topic** is `/cmd_lightring`, and the type of **message** that are sent and recieved from that topic are `irobot_create_msgs/msg/LightringLeds`. Inspecting the code in [section 2](./02_Sending_Data.ipynb), the message type appears on line 6. \n",
    "\n",
    "```python\n",
    "from irobot_create_msgs.msg import LightringLeds\n",
    "```\n",
    "\n",
    "When we want to publish to a specific topic we create a publisher and provide it the name `/cmd_lightring` and the message type `LightringLeds`.\n",
    "\n",
    "```python\n",
    "self.lights_publisher = self.create_publisher(LightringLeds,'/cmd_lightring', 10)\n",
    "```\n",
    "\n",
    "Now let's take a look at the general structure of the class.\n",
    "\n",
    "The essential imports here are \n",
    "\n",
    "```python\n",
    "import rclpy\n",
    "from rclpy.node import Node\n",
    "```\n",
    "\n",
    "Then we create a [Child Class](https://www.w3schools.com/python/python_inheritance.asp) of Node and initialize it the same way.\n",
    "\n",
    "```python\n",
    "class LEDPublisher(Node): \n",
    "\n",
    "    def __init__(self, namespace: str = \"\"):\n",
    "        super().__init__('led_publisher')\n",
    "```\n"
   ]
  }
 ],
 "metadata": {
  "kernelspec": {
   "display_name": "Python 3 (ipykernel)",
   "language": "python",
   "name": "python3"
  },
  "language_info": {
   "codemirror_mode": {
    "name": "ipython",
    "version": 3
   },
   "file_extension": ".py",
   "mimetype": "text/x-python",
   "name": "python",
   "nbconvert_exporter": "python",
   "pygments_lexer": "ipython3",
   "version": "3.8.3"
  }
 },
 "nbformat": 4,
 "nbformat_minor": 5
}
