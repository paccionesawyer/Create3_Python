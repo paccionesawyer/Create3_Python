{
 "cells": [
  {
   "cell_type": "markdown",
   "id": "95455292",
   "metadata": {},
   "source": [
    "# What IS ROS2?\n",
    "\n",
    "The Robot Operating System (ROS) is a set of software libraries and tools for building robot applications. From drivers to state-of-the-art algorithms, and with powerful developer tools, ROS has what you need for your next robotics project. And it’s all open source. [More Info](https://docs.ros.org/en/galactic/index.html)\n",
    "\n",
    "![ROS.jpg](../ROS.jpg)\n",
    "\n",
    "## The ROS 2 graph\n",
    "\n",
    "Over the next few tutorials, you will learn about a series of core ROS 2 concepts that make up what is referred to as the “ROS (2) graph”.\n",
    "\n",
    "The ROS graph is a network of ROS 2 elements processing data together at one time. It encompasses all executables and the connections between them if you were to map them all out and visualize them.\n",
    "\n",
    "## See What Topics Are Available"
   ]
  },
  {
   "cell_type": "markdown",
   "id": "0eb27289",
   "metadata": {},
   "source": [
    "Running the `ros2 topic list -t` command in a terminal command-line will return a list of all the topics currently active in the system. The `-t` flag provides additional information on the messages that are exchanged on each topic.\n",
    "\n",
    "Run the following cell by pressing on the play button."
   ]
  },
  {
   "cell_type": "code",
   "execution_count": null,
   "id": "b79ef6d2",
   "metadata": {},
   "outputs": [],
   "source": [
    "%%bash\n",
    "# The Cell Here is simulating your command line \n",
    "# (i.e. Running this cell is equivalent to running `ros2 topic list` on the command line)\n",
    "ros2 topic list -t"
   ]
  },
  {
   "cell_type": "markdown",
   "id": "f91f1311",
   "metadata": {},
   "source": [
    "## What To Do With This Information\n",
    "\n",
    "In this case let's look on how we built the code in [section 2](./02_Sending_Data.ipynb), Publishing to the Lightring. Running `ros2 topic list -t`, one of the lines we get back is `/cmd_lightring [irobot_create_msgs/msg/LightringLeds]`. What this line means is that the **topic** is `/cmd_lightring`, and the type of **message** that are sent and recieved from that topic are `irobot_create_msgs/msg/LightringLeds`. Inspecting the code in [section 2](./02_Sending_Data.ipynb), the message type appears on line 6. \n",
    "\n",
    "```python\n",
    "from irobot_create_msgs.msg import LightringLeds\n",
    "```\n",
    "\n",
    "When we want to publish to a specific topic we create a publisher and provide it the name `/cmd_lightring` and the message type `LightringLeds`.\n",
    "\n",
    "```python\n",
    "self.lights_publisher = self.create_publisher(LightringLeds,'/cmd_lightring', 10)\n",
    "```\n",
    "\n",
    "Now let's take a look at the general structure of the class.\n",
    "\n",
    "The essential imports here are \n",
    "\n",
    "```python\n",
    "import rclpy\n",
    "from rclpy.node import Node\n",
    "```\n",
    "\n",
    "Then we create a [Child Class](https://www.w3schools.com/python/python_inheritance.asp) of Node and initialize it the same way.\n",
    "\n",
    "```python\n",
    "class LEDPublisher(Node): \n",
    "\n",
    "    def __init__(self, namespace: str = \"\"):\n",
    "        super().__init__('led_publisher')\n",
    "```\n"
   ]
  },
  {
   "cell_type": "markdown",
   "id": "b69d65fe",
   "metadata": {},
   "source": [
    "## See What Actions Are Available\n",
    "\n",
    "Running the `ros2 action list -t` command in a terminal command-line will return a list of all the actions currently active in the system. The `-t` flag provides additional information on the messages that are exchanged on each action.\n",
    "\n",
    "Run the following cell by pressing on the play button."
   ]
  },
  {
   "cell_type": "code",
   "execution_count": null,
   "id": "c66706e3",
   "metadata": {},
   "outputs": [],
   "source": [
    "%%bash\n",
    "\n",
    "# The Cell Here is simulating your command line \n",
    "# (i.e. Running this cell is equivalent to running `ros2 action list` on the command line)\n",
    "ros2 action list -t"
   ]
  },
  {
   "cell_type": "markdown",
   "id": "4a03bcb9",
   "metadata": {},
   "source": [
    "## Template Code"
   ]
  },
  {
   "cell_type": "code",
   "execution_count": null,
   "id": "d6e32fa2",
   "metadata": {},
   "outputs": [],
   "source": [
    "import sys\n",
    "import rclpy\n",
    "from rclpy.node import Node\n",
    "from rclpy.action import ActionClient\n",
    "from rclpy.qos import qos_profile_sensor_data\n",
    "\n",
    "# Import your message types here!\n",
    "\n",
    "\n",
    "class YourNodeName(Node):\n",
    "\n",
    "    def __init__(self):\n",
    "        super().__init__('<your_node_name>')\n",
    "        self.subscription = self.create_subscription(<msg_type1>, <topic_name1>, self.listener_callback,\n",
    "                                                        qos_profile_sensor_data)\n",
    "        \n",
    "        self.publisher = self.create_publisher(<msg_type2>, <topic_name2>, 10)\n",
    "        \n",
    "        self._action_client = ActionClient(self, <msg_type3>, <action_name>)\n",
    "\n",
    "    def listener_callback(self, msg):\n",
    "        \"\"\"\n",
    "        Executed every time subscription get's a message\n",
    "        :type msg: <msg_type1>\n",
    "        :rtype: None\n",
    "        \"\"\"\n",
    "        self.get_logger().info('I heard: \"%s\"' % msg)\n",
    "        \n",
    "\n",
    "def main(args=None):\n",
    "    rclpy.init(args=args)\n",
    "\n",
    "    your_node = YourNodeName()\n",
    "    try:\n",
    "        rclpy.spin(your_node)\n",
    "    except KeyboardInterrupt:\n",
    "        print('Caught keyboard interrupt')\n",
    "    except BaseException:\n",
    "        print('Exception:', file=sys.stderr)\n",
    "    finally:\n",
    "        print(\"done\")\n",
    "        your_node.destroy_node()\n",
    "        rclpy.shutdown()\n",
    "\n",
    "if __name__ == '__main__':\n",
    "    main()\n",
    "        \n",
    "'''\n",
    "For examples of how to publish and send actions in python please refer to the previous example codes\n",
    "'''"
   ]
  },
  {
   "cell_type": "markdown",
   "id": "eaa4629b",
   "metadata": {},
   "source": [
    "## Running on Windows\n",
    "\n",
    "If running this jupyter notebook on windows, replace the terms %%bash, with %%cmd."
   ]
  }
 ],
 "metadata": {
  "kernelspec": {
   "display_name": "Python 3",
   "language": "python",
   "name": "python3"
  },
  "language_info": {
   "codemirror_mode": {
    "name": "ipython",
    "version": 3
   },
   "file_extension": ".py",
   "mimetype": "text/x-python",
   "name": "python",
   "nbconvert_exporter": "python",
   "pygments_lexer": "ipython3",
   "version": "3.9.1"
  }
 },
 "nbformat": 4,
 "nbformat_minor": 5
}
