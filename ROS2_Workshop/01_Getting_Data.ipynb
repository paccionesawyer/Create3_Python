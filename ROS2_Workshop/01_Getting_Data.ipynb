{
 "cells": [
  {
   "cell_type": "markdown",
   "id": "cb923d85",
   "metadata": {},
   "source": [
    "# Subscribers - Getting Data From The Create3 \n",
    "\n",
    "In ROS2, we get information from a Robot by **subscribing** to a topic. For this topic let's get the battery information from the Create3.\n",
    "\n",
    "To do this from the command-line, we use the command `ros2 topic echo <topic_name>`. For example, let's get information from the topic named `/battery_state`. \n",
    "\n",
    "Note: Typically the `ros2 topic echo` command is called from the command-line of a terminal, here we use the `%%bash` magic word to simulate the command line in this jupyter notebook."
   ]
  },
  {
   "cell_type": "code",
   "execution_count": null,
   "id": "6b6df69c",
   "metadata": {},
   "outputs": [],
   "source": [
    "%%bash\n",
    "\n",
    "ros2 topic echo /battery_state"
   ]
  },
  {
   "cell_type": "markdown",
   "id": "c0bb1496",
   "metadata": {},
   "source": [
    "From this message you should have a print-out of battery information corresponding to your Create3. \n",
    "\n",
    "However, in the command-line this isn't much help to us, so next let's see how to get this information in a python file.\n",
    "\n",
    "## Battery Subscriber Example Code\n",
    "\n",
    "The following code is located in the `individual_examples` folder, as `sub_battery.py`."
   ]
  },
  {
   "cell_type": "code",
   "execution_count": null,
   "id": "f261f33d",
   "metadata": {},
   "outputs": [],
   "source": [
    "import sys\n",
    "import rclpy\n",
    "from rclpy.node import Node\n",
    "from rclpy.qos import qos_profile_sensor_data\n",
    "from sensor_msgs.msg import BatteryState\n",
    "\n",
    "\n",
    "class BatterySubscriber(Node):\n",
    "    '''\n",
    "    An example of subscribing to a ROS2 topic.\n",
    "    A Node listening to the /battery_state topic.\n",
    "    '''\n",
    "\n",
    "    def __init__(self, namespace: str = \"\"):\n",
    "        '''\n",
    "        Purpose\n",
    "        -------\n",
    "        initialized by calling the Node constructor, naming our node \n",
    "        'battery_subscriber'\n",
    "        '''\n",
    "        super().__init__('battery_subscriber')\n",
    "        self.subscription = self.create_subscription(\n",
    "            BatteryState, namespace + '/battery_state', self.listener_callback,\n",
    "            qos_profile_sensor_data)\n",
    "\n",
    "    def listener_callback(self, msg: BatteryState):\n",
    "        '''\n",
    "        Purpose\n",
    "        -------\n",
    "        Whenever our subscriber (listener) get's a message this function is \n",
    "        'called back' to and ran.\n",
    "        '''\n",
    "        self.get_logger().info('I heard: \"%s\"' % msg)\n",
    "        self.printBattery(msg)\n",
    "\n",
    "    def printBattery(self, msg):\n",
    "        '''\n",
    "        :type msg: BatteryState\n",
    "        :rtype: None\n",
    "\n",
    "        An example of how to get components of the msg returned from a topic.\n",
    "        '''\n",
    "        # We can get components of the message by using the '.' dot operator\n",
    "        print(\"Battery Percentage:\", msg.percentage)\n",
    "\n",
    "\n",
    "def main(args=None):\n",
    "    rclpy.init(args=args)\n",
    "\n",
    "    battery_subscriber = BatterySubscriber()\n",
    "    try:\n",
    "        rclpy.spin_once(battery_subscriber)\n",
    "    except KeyboardInterrupt:\n",
    "        print('\\nCaught keyboard interrupt')\n",
    "    finally:\n",
    "        print(\"Done\")\n",
    "        battery_subscriber.destroy_node()\n",
    "        rclpy.shutdown()\n",
    "\n",
    "if __name__ == '__main__':\n",
    "    main()"
   ]
  }
 ],
 "metadata": {
  "kernelspec": {
   "display_name": "Python 3",
   "language": "python",
   "name": "python3"
  },
  "language_info": {
   "codemirror_mode": {
    "name": "ipython",
    "version": 3
   },
   "file_extension": ".py",
   "mimetype": "text/x-python",
   "name": "python",
   "nbconvert_exporter": "python",
   "pygments_lexer": "ipython3",
   "version": "3.9.1"
  }
 },
 "nbformat": 4,
 "nbformat_minor": 5
}
