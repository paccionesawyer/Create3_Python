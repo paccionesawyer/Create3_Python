{
 "cells": [
  {
   "cell_type": "markdown",
   "id": "a2772ba2",
   "metadata": {},
   "source": [
    "# Combining Subscribers and Actions \n",
    "\n",
    "There is no way to combine subscribers and publishers from the command line; however, there is in python! Let's combine the examples we used in [Section 1](./01_Getting_Data.ipynb) and in [Section 3](./03_Sending_Actions.ipynb); however, this time, let's switch it up a bit. We will subsribe to the `/hazard_detection` topic and send actions to the `/turn_angle` goal. \n",
    "\n",
    "## Bumper Detection and Turn Example\n",
    "\n",
    "The following code subscribes to the Create3's hazard detection and check's to see if a bumper has been hit. When a bumper is hit, the Create3 will turn in the direction it was pressed."
   ]
  },
  {
   "cell_type": "code",
   "execution_count": null,
   "id": "daf60fc6",
   "metadata": {},
   "outputs": [],
   "source": []
  }
 ],
 "metadata": {
  "kernelspec": {
   "display_name": "Python 3 (ipykernel)",
   "language": "python",
   "name": "python3"
  },
  "language_info": {
   "codemirror_mode": {
    "name": "ipython",
    "version": 3
   },
   "file_extension": ".py",
   "mimetype": "text/x-python",
   "name": "python",
   "nbconvert_exporter": "python",
   "pygments_lexer": "ipython3",
   "version": "3.8.3"
  }
 },
 "nbformat": 4,
 "nbformat_minor": 5
}
